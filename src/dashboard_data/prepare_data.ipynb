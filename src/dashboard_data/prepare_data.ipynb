{
 "cells": [
  {
   "cell_type": "code",
   "execution_count": 1,
   "metadata": {},
   "outputs": [
    {
     "data": {
      "text/plain": [
       "True"
      ]
     },
     "execution_count": 1,
     "metadata": {},
     "output_type": "execute_result"
    }
   ],
   "source": [
    "import os\n",
    "import sys\n",
    "import pickle\n",
    "from dotenv import load_dotenv\n",
    "import pandas as pd\n",
    "import warnings\n",
    "warnings.simplefilter(action='ignore', category=FutureWarning)\n",
    "\n",
    "sys.path.append('../../')\n",
    "import config\n",
    "\n",
    "load_dotenv(os.path.join(config.PROJ_PATH, '.env')) "
   ]
  },
  {
   "cell_type": "markdown",
   "metadata": {},
   "source": [
    "Read and concat dataframes"
   ]
  },
  {
   "cell_type": "code",
   "execution_count": 9,
   "metadata": {},
   "outputs": [
    {
     "name": "stdout",
     "output_type": "stream",
     "text": [
      "Número de amostras de treino: 1334\n",
      "Número de amostras de teste: 568\n"
     ]
    }
   ],
   "source": [
    "# Read train parquet file extracted tweets\n",
    "file_path = os.path.join(config.DATASET_TWEETS, 'train.parquet')\n",
    "df_train = pd.read_parquet(file_path)\n",
    "print(\"Número de amostras de treino: {}\".format(df_train.shape[0]))\n",
    "\n",
    "# Read test parquet file extracted tweets\n",
    "file_path = os.path.join(config.DATASET_TWEETS, 'test.parquet')\n",
    "df_test = pd.read_parquet(file_path)\n",
    "print(\"Número de amostras de teste: {}\".format(df_test.shape[0]))\n",
    "\n",
    "# Concat dataframes\n",
    "all_tweets = pd.concat([df_train, df_test])\n",
    "vaw_tweets = all_tweets[all_tweets['label'] == 1]"
   ]
  },
  {
   "cell_type": "markdown",
   "metadata": {},
   "source": [
    "Save filtered dataframe with only VAW cases"
   ]
  },
  {
   "cell_type": "code",
   "execution_count": null,
   "metadata": {},
   "outputs": [],
   "source": [
    "file_path = os.path.join(config.DATASET_TWEETS_VAW, 'train.parquet')\n",
    "vaw_tweets"
   ]
  }
 ],
 "metadata": {
  "kernelspec": {
   "display_name": "env",
   "language": "python",
   "name": "python3"
  },
  "language_info": {
   "codemirror_mode": {
    "name": "ipython",
    "version": 3
   },
   "file_extension": ".py",
   "mimetype": "text/x-python",
   "name": "python",
   "nbconvert_exporter": "python",
   "pygments_lexer": "ipython3",
   "version": "3.10.0"
  },
  "orig_nbformat": 4
 },
 "nbformat": 4,
 "nbformat_minor": 2
}
