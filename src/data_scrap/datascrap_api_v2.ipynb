{
 "cells": [
  {
   "attachments": {},
   "cell_type": "markdown",
   "metadata": {},
   "source": [
    "# Import libraries"
   ]
  },
  {
   "cell_type": "code",
   "execution_count": 1,
   "metadata": {},
   "outputs": [
    {
     "data": {
      "text/plain": [
       "True"
      ]
     },
     "execution_count": 1,
     "metadata": {},
     "output_type": "execute_result"
    }
   ],
   "source": [
    "import os\n",
    "import pickle\n",
    "import sys\n",
    "import tweepy\n",
    "import requests\n",
    "from dotenv import load_dotenv\n",
    "import pandas as pd\n",
    "import warnings\n",
    "warnings.simplefilter(action='ignore', category=FutureWarning)\n",
    "\n",
    "sys.path.append('../../')\n",
    "import config\n",
    "\n",
    "load_dotenv(os.path.join(config.PROJ_PATH, '.env')) "
   ]
  },
  {
   "cell_type": "markdown",
   "metadata": {},
   "source": [
    "# Create Twitter client"
   ]
  },
  {
   "cell_type": "code",
   "execution_count": 2,
   "metadata": {},
   "outputs": [],
   "source": [
    "client = tweepy.Client(bearer_token=os.environ[\"BEARER_TOKEN\"])"
   ]
  },
  {
   "cell_type": "code",
   "execution_count": 9,
   "metadata": {},
   "outputs": [],
   "source": [
    "# Set search query\n",
    "query = \"vaca\""
   ]
  },
  {
   "cell_type": "markdown",
   "metadata": {},
   "source": [
    "# Searching for Tweets from the last 7 days"
   ]
  },
  {
   "cell_type": "code",
   "execution_count": 13,
   "metadata": {},
   "outputs": [
    {
     "name": "stdout",
     "output_type": "stream",
     "text": [
      "RT @jdoedoe101101: @Kicillofok Pero ya tienen Vaca Muerta, hace 4 años que controlan YPF... y tuvieron que pedir otros 45.000 millones de d…\n",
      "[{'domain': {'id': '10', 'name': 'Person', 'description': 'Named people in the world like Nelson Mandela'}, 'entity': {'id': '1179511859944148992', 'name': 'Axel Kicillof'}}, {'domain': {'id': '35', 'name': 'Politician', 'description': 'Politicians in the world, like Joe Biden'}, 'entity': {'id': '1179511859944148992', 'name': 'Axel Kicillof'}}, {'domain': {'id': '131', 'name': 'Unified Twitter Taxonomy', 'description': 'A taxonomy of user interests. '}, 'entity': {'id': '847878884917886977', 'name': 'Politics', 'description': 'Politics'}}, {'domain': {'id': '131', 'name': 'Unified Twitter Taxonomy', 'description': 'A taxonomy of user interests. '}, 'entity': {'id': '1070032753834438656', 'name': 'Political figures', 'description': 'Politician'}}, {'domain': {'id': '131', 'name': 'Unified Twitter Taxonomy', 'description': 'A taxonomy of user interests. '}, 'entity': {'id': '1179511859944148992', 'name': 'Axel Kicillof'}}]\n",
      "@Flamengo @filipeluis Doar na vaquinha Felipinho, larga de ser mão de vaca\n",
      "[{'domain': {'id': '10', 'name': 'Person', 'description': 'Named people in the world like Nelson Mandela'}, 'entity': {'id': '733773720397864960', 'name': 'Filipe Luis'}}, {'domain': {'id': '12', 'name': 'Sports Team', 'description': 'A sports team organization, like Arsenal and the Boston Celtics'}, 'entity': {'id': '731226260752367618', 'name': 'CR Flamengo RJ'}}, {'domain': {'id': '46', 'name': 'Business Taxonomy', 'description': 'Categories within Brand Verticals that narrow down the scope of Brands'}, 'entity': {'id': '1557697289971322880', 'name': 'Sports & Fitness Business', 'description': 'Brands, companies, advertisers and every non-person handle with the profit intent related to sports nutrition, athletic apparel, sports apps, fitness venues'}}, {'domain': {'id': '60', 'name': 'Athlete', 'description': 'An athlete in the world, like Serena Williams or Lionel Messi'}, 'entity': {'id': '733773720397864960', 'name': 'Filipe Luis'}}, {'domain': {'id': '131', 'name': 'Unified Twitter Taxonomy', 'description': 'A taxonomy of user interests. '}, 'entity': {'id': '731226260752367618', 'name': 'CR Flamengo RJ'}}, {'domain': {'id': '131', 'name': 'Unified Twitter Taxonomy', 'description': 'A taxonomy of user interests. '}, 'entity': {'id': '733756536430809088', 'name': 'Soccer'}}, {'domain': {'id': '131', 'name': 'Unified Twitter Taxonomy', 'description': 'A taxonomy of user interests. '}, 'entity': {'id': '733773720397864960', 'name': 'Filipe Luis'}}, {'domain': {'id': '131', 'name': 'Unified Twitter Taxonomy', 'description': 'A taxonomy of user interests. '}, 'entity': {'id': '847900493514891265', 'name': 'Sports', 'description': 'Sports'}}]\n",
      "RT @antonsofcool: so assim pra essa vaca ser relevante\n",
      "[{'domain': {'id': '10', 'name': 'Person', 'description': 'Named people in the world like Nelson Mandela'}, 'entity': {'id': '828635393868206080', 'name': 'Anitta', 'description': 'Anitta'}}, {'domain': {'id': '10', 'name': 'Person', 'description': 'Named people in the world like Nelson Mandela'}, 'entity': {'id': '1550444438127685635', 'name': 'NewJeans'}}, {'domain': {'id': '10', 'name': 'Person', 'description': 'Named people in the world like Nelson Mandela'}, 'entity': {'id': '1612562270415998979', 'name': 'NewJeans'}}, {'domain': {'id': '46', 'name': 'Business Taxonomy', 'description': 'Categories within Brand Verticals that narrow down the scope of Brands'}, 'entity': {'id': '1557696802391859201', 'name': 'Entertainment & Leisure Business', 'description': 'Brands, companies, advertisers and every non-person handle with the profit intent related to movies, music, television, franchises, venues, theme parks, toys, tourism, hotels'}}, {'domain': {'id': '54', 'name': 'Musician', 'description': 'A musician in the world, like Adele or Bob Dylan'}, 'entity': {'id': '828635393868206080', 'name': 'Anitta', 'description': 'Anitta'}}, {'domain': {'id': '54', 'name': 'Musician', 'description': 'A musician in the world, like Adele or Bob Dylan'}, 'entity': {'id': '1550444438127685635', 'name': 'NewJeans'}}, {'domain': {'id': '54', 'name': 'Musician', 'description': 'A musician in the world, like Adele or Bob Dylan'}, 'entity': {'id': '1612562270415998979', 'name': 'NewJeans'}}, {'domain': {'id': '55', 'name': 'Music Genre', 'description': 'A category for a musical style, like Pop, Rock, or Rap'}, 'entity': {'id': '810938279801470977', 'name': 'Pop', 'description': 'Pop'}}, {'domain': {'id': '55', 'name': 'Music Genre', 'description': 'A category for a musical style, like Pop, Rock, or Rap'}, 'entity': {'id': '849684576913940480', 'name': 'Latin pop', 'description': 'Latino'}}, {'domain': {'id': '55', 'name': 'Music Genre', 'description': 'A category for a musical style, like Pop, Rock, or Rap'}, 'entity': {'id': '885621256573173760', 'name': 'Brazilian funk', 'description': 'Funk'}}, {'domain': {'id': '55', 'name': 'Music Genre', 'description': 'A category for a musical style, like Pop, Rock, or Rap'}, 'entity': {'id': '888105153038958593', 'name': 'K-pop', 'description': 'K-Pop'}}, {'domain': {'id': '131', 'name': 'Unified Twitter Taxonomy', 'description': 'A taxonomy of user interests. '}, 'entity': {'id': '810938279801470977', 'name': 'Pop', 'description': 'Pop'}}, {'domain': {'id': '131', 'name': 'Unified Twitter Taxonomy', 'description': 'A taxonomy of user interests. '}, 'entity': {'id': '828635393868206080', 'name': 'Anitta', 'description': 'Anitta'}}, {'domain': {'id': '131', 'name': 'Unified Twitter Taxonomy', 'description': 'A taxonomy of user interests. '}, 'entity': {'id': '847524658970636288', 'name': 'Music', 'description': 'Music and radio'}}, {'domain': {'id': '131', 'name': 'Unified Twitter Taxonomy', 'description': 'A taxonomy of user interests. '}, 'entity': {'id': '849684576913940480', 'name': 'Latin pop', 'description': 'Latino'}}, {'domain': {'id': '131', 'name': 'Unified Twitter Taxonomy', 'description': 'A taxonomy of user interests. '}, 'entity': {'id': '885621256573173760', 'name': 'Brazilian funk', 'description': 'Funk'}}, {'domain': {'id': '131', 'name': 'Unified Twitter Taxonomy', 'description': 'A taxonomy of user interests. '}, 'entity': {'id': '888105153038958593', 'name': 'K-pop', 'description': 'K-Pop'}}, {'domain': {'id': '131', 'name': 'Unified Twitter Taxonomy', 'description': 'A taxonomy of user interests. '}, 'entity': {'id': '1550444438127685635', 'name': 'NewJeans'}}, {'domain': {'id': '131', 'name': 'Unified Twitter Taxonomy', 'description': 'A taxonomy of user interests. '}, 'entity': {'id': '1585792216395436032', 'name': 'Music'}}, {'domain': {'id': '131', 'name': 'Unified Twitter Taxonomy', 'description': 'A taxonomy of user interests. '}, 'entity': {'id': '1612562270415998979', 'name': 'NewJeans'}}]\n",
      "RT @LudowicoI: Quiere afanarse Vaca Muerta para pagar el muerto que dejó? O simplemente dio rienda suelta al predictivo?\n",
      "[{'domain': {'id': '131', 'name': 'Unified Twitter Taxonomy', 'description': 'A taxonomy of user interests. '}, 'entity': {'id': '847878884917886977', 'name': 'Politics', 'description': 'Politics'}}, {'domain': {'id': '131', 'name': 'Unified Twitter Taxonomy', 'description': 'A taxonomy of user interests. '}, 'entity': {'id': '900740740468191232', 'name': 'Political issues', 'description': 'Political issues'}}, {'domain': {'id': '131', 'name': 'Unified Twitter Taxonomy', 'description': 'A taxonomy of user interests. '}, 'entity': {'id': '1136018071032721414', 'name': 'Economic Issues in Argentina', 'description': 'Everything about Political Issue concerning Eoconomy in Argentina.'}}]\n",
      "El ekeko soviet pide Vaca muerta??🙄 \n",
      "Así será en sus manos https://t.co/xkkHXoV8mA\n",
      "RT @Kicillofok: Danos Vaca Muerta para la Provincia de Buenos Aires que nosotros ponemos la guita y además le pagamos al FMI los 45.000 mil…\n",
      "[{'domain': {'id': '10', 'name': 'Person', 'description': 'Named people in the world like Nelson Mandela'}, 'entity': {'id': '1179511859944148992', 'name': 'Axel Kicillof'}}, {'domain': {'id': '35', 'name': 'Politician', 'description': 'Politicians in the world, like Joe Biden'}, 'entity': {'id': '1179511859944148992', 'name': 'Axel Kicillof'}}, {'domain': {'id': '131', 'name': 'Unified Twitter Taxonomy', 'description': 'A taxonomy of user interests. '}, 'entity': {'id': '847878884917886977', 'name': 'Politics', 'description': 'Politics'}}, {'domain': {'id': '131', 'name': 'Unified Twitter Taxonomy', 'description': 'A taxonomy of user interests. '}, 'entity': {'id': '900740740468191232', 'name': 'Political issues', 'description': 'Political issues'}}, {'domain': {'id': '131', 'name': 'Unified Twitter Taxonomy', 'description': 'A taxonomy of user interests. '}, 'entity': {'id': '1070032753834438656', 'name': 'Political figures', 'description': 'Politician'}}, {'domain': {'id': '131', 'name': 'Unified Twitter Taxonomy', 'description': 'A taxonomy of user interests. '}, 'entity': {'id': '1136018071032721414', 'name': 'Economic Issues in Argentina', 'description': 'Everything about Political Issue concerning Eoconomy in Argentina.'}}, {'domain': {'id': '131', 'name': 'Unified Twitter Taxonomy', 'description': 'A taxonomy of user interests. '}, 'entity': {'id': '1179511859944148992', 'name': 'Axel Kicillof'}}]\n",
      "RT @Kicillofok: Danos Vaca Muerta para la Provincia de Buenos Aires que nosotros ponemos la guita y además le pagamos al FMI los 45.000 mil…\n",
      "[{'domain': {'id': '10', 'name': 'Person', 'description': 'Named people in the world like Nelson Mandela'}, 'entity': {'id': '1179511859944148992', 'name': 'Axel Kicillof'}}, {'domain': {'id': '35', 'name': 'Politician', 'description': 'Politicians in the world, like Joe Biden'}, 'entity': {'id': '1179511859944148992', 'name': 'Axel Kicillof'}}, {'domain': {'id': '131', 'name': 'Unified Twitter Taxonomy', 'description': 'A taxonomy of user interests. '}, 'entity': {'id': '847878884917886977', 'name': 'Politics', 'description': 'Politics'}}, {'domain': {'id': '131', 'name': 'Unified Twitter Taxonomy', 'description': 'A taxonomy of user interests. '}, 'entity': {'id': '900740740468191232', 'name': 'Political issues', 'description': 'Political issues'}}, {'domain': {'id': '131', 'name': 'Unified Twitter Taxonomy', 'description': 'A taxonomy of user interests. '}, 'entity': {'id': '1070032753834438656', 'name': 'Political figures', 'description': 'Politician'}}, {'domain': {'id': '131', 'name': 'Unified Twitter Taxonomy', 'description': 'A taxonomy of user interests. '}, 'entity': {'id': '1136018071032721414', 'name': 'Economic Issues in Argentina', 'description': 'Everything about Political Issue concerning Eoconomy in Argentina.'}}, {'domain': {'id': '131', 'name': 'Unified Twitter Taxonomy', 'description': 'A taxonomy of user interests. '}, 'entity': {'id': '1179511859944148992', 'name': 'Axel Kicillof'}}]\n",
      "RT @Kicillofok: Danos Vaca Muerta para la Provincia de Buenos Aires que nosotros ponemos la guita y además le pagamos al FMI los 45.000 mil…\n",
      "[{'domain': {'id': '10', 'name': 'Person', 'description': 'Named people in the world like Nelson Mandela'}, 'entity': {'id': '1179511859944148992', 'name': 'Axel Kicillof'}}, {'domain': {'id': '35', 'name': 'Politician', 'description': 'Politicians in the world, like Joe Biden'}, 'entity': {'id': '1179511859944148992', 'name': 'Axel Kicillof'}}, {'domain': {'id': '131', 'name': 'Unified Twitter Taxonomy', 'description': 'A taxonomy of user interests. '}, 'entity': {'id': '847878884917886977', 'name': 'Politics', 'description': 'Politics'}}, {'domain': {'id': '131', 'name': 'Unified Twitter Taxonomy', 'description': 'A taxonomy of user interests. '}, 'entity': {'id': '900740740468191232', 'name': 'Political issues', 'description': 'Political issues'}}, {'domain': {'id': '131', 'name': 'Unified Twitter Taxonomy', 'description': 'A taxonomy of user interests. '}, 'entity': {'id': '1070032753834438656', 'name': 'Political figures', 'description': 'Politician'}}, {'domain': {'id': '131', 'name': 'Unified Twitter Taxonomy', 'description': 'A taxonomy of user interests. '}, 'entity': {'id': '1136018071032721414', 'name': 'Economic Issues in Argentina', 'description': 'Everything about Political Issue concerning Eoconomy in Argentina.'}}, {'domain': {'id': '131', 'name': 'Unified Twitter Taxonomy', 'description': 'A taxonomy of user interests. '}, 'entity': {'id': '1179511859944148992', 'name': 'Axel Kicillof'}}]\n",
      "Como me rompe las pelotas leer estos planteos. Vaca Muerta está situada en 4 provincias patagónicas, lo ideal sería refinar ese petróleo allá y exportarlo desde ahí, por ej. desde un pto. en San Antonio. Para q mierda somos federales y los recursos son de las pcias? https://t.co/C4DXH18PYk\n",
      "[{'domain': {'id': '131', 'name': 'Unified Twitter Taxonomy', 'description': 'A taxonomy of user interests. '}, 'entity': {'id': '847878884917886977', 'name': 'Politics', 'description': 'Politics'}}, {'domain': {'id': '131', 'name': 'Unified Twitter Taxonomy', 'description': 'A taxonomy of user interests. '}, 'entity': {'id': '900740740468191232', 'name': 'Political issues', 'description': 'Political issues'}}, {'domain': {'id': '131', 'name': 'Unified Twitter Taxonomy', 'description': 'A taxonomy of user interests. '}, 'entity': {'id': '1136018071032721414', 'name': 'Economic Issues in Argentina', 'description': 'Everything about Political Issue concerning Eoconomy in Argentina.'}}, {'domain': {'id': '156', 'name': 'Cities', 'description': 'Cities around the world'}, 'entity': {'id': '1012404645350658048', 'name': 'San Antonio', 'description': 'San Antonio'}}]\n",
      "@marcos_galperin Acá te explican qué sería Argentina sin YPF estatal y sin Vaca Muerta, para vos que hablas sin saber mientras eludis impuestos.\n",
      "https://t.co/pyOeJaogPK\n",
      "[{'domain': {'id': '131', 'name': 'Unified Twitter Taxonomy', 'description': 'A taxonomy of user interests. '}, 'entity': {'id': '847511168268644352', 'name': 'Global Economy', 'description': 'Conversation about global finance and economies.'}}, {'domain': {'id': '131', 'name': 'Unified Twitter Taxonomy', 'description': 'A taxonomy of user interests. '}, 'entity': {'id': '847878884917886977', 'name': 'Politics', 'description': 'Politics'}}, {'domain': {'id': '131', 'name': 'Unified Twitter Taxonomy', 'description': 'A taxonomy of user interests. '}, 'entity': {'id': '900740740468191232', 'name': 'Political issues', 'description': 'Political issues'}}, {'domain': {'id': '131', 'name': 'Unified Twitter Taxonomy', 'description': 'A taxonomy of user interests. '}, 'entity': {'id': '1136018071032721414', 'name': 'Economic Issues in Argentina', 'description': 'Everything about Political Issue concerning Eoconomy in Argentina.'}}]\n"
     ]
    }
   ],
   "source": [
    "tweets = client.search_recent_tweets(query=query, tweet_fields=['context_annotations', 'created_at'], max_results=10)\n",
    "\n",
    "for tweet in tweets.data:\n",
    "    print(tweet.text)\n",
    "    if len(tweet.context_annotations) > 0:\n",
    "        print(tweet.context_annotations)"
   ]
  },
  {
   "cell_type": "markdown",
   "metadata": {},
   "source": [
    "# Searching for Tweets from the full-archive of public Tweets"
   ]
  },
  {
   "cell_type": "code",
   "execution_count": null,
   "metadata": {},
   "outputs": [],
   "source": [
    "# tweets = client.search_all_tweets(query=query, tweet_fields=['context_annotations', 'created_at'], max_results=10)\n",
    "\n",
    "# for tweet in tweets.data:\n",
    "#     print(tweet.text)\n",
    "#     if len(tweet.context_annotations) > 0:\n",
    "#         print(tweet.context_annotations)"
   ]
  },
  {
   "cell_type": "markdown",
   "metadata": {},
   "source": [
    "# Getting more than 100 Tweets at a time using paginator"
   ]
  },
  {
   "cell_type": "code",
   "execution_count": null,
   "metadata": {},
   "outputs": [],
   "source": [
    "# Replace the limit=1000 with the maximum number of Tweets you want\n",
    "for tweet in tweepy.Paginator(client.search_recent_tweets, query=query,\n",
    "                              tweet_fields=['context_annotations', 'created_at'], max_results=10).flatten(limit=10):\n",
    "    print(tweet.id)\n",
    "    print(tweet)"
   ]
  },
  {
   "attachments": {},
   "cell_type": "markdown",
   "metadata": {},
   "source": [
    "# Make search query"
   ]
  },
  {
   "cell_type": "code",
   "execution_count": 5,
   "metadata": {},
   "outputs": [],
   "source": [
    "search_keywords = ['mal amada', 'vaca', 'burra']\n",
    "complementary_words = []\n",
    "places = []\n",
    "lang = 'pt'\n",
    "\n",
    "query = ''\n",
    "\n",
    "if len(search_keywords) > 0:\n",
    "    keywords_query = ''\n",
    "    for idx, keyword in enumerate(search_keywords):\n",
    "        if idx == 0:\n",
    "            keywords_query += '('\n",
    "        if idx == len(search_keywords) - 1:\n",
    "            keywords_query += f'\"{keyword}\")'\n",
    "            break\n",
    "        keywords_query += f'\"{keyword}\" OR '\n",
    "    query += f'{keywords_query} '\n",
    "\n",
    "if len(complementary_words) > 0:\n",
    "    comp_words_query = ''\n",
    "    for idx, word in enumerate(complementary_words):\n",
    "        if idx == 0:\n",
    "            comp_words_query += '('\n",
    "        if idx == len(complementary_words) - 1:\n",
    "            comp_words_query += f'\"{word}\")'\n",
    "            break\n",
    "        comp_words_query += f'\"{word}\" '\n",
    "    query += f'{comp_words_query} '\n",
    "\n",
    "if len(places) > 0:\n",
    "    places_query = ''\n",
    "    for idx, place in enumerate(places):\n",
    "        if idx == 0:\n",
    "            places_query += '('\n",
    "        if idx == len(places) - 1:\n",
    "            places_query += f'place:\"{place}\")'\n",
    "            break\n",
    "        places_query += f'place:\"{place}\" '\n",
    "    query += f'{places_query} '\n",
    "\n",
    "\n",
    "query += f'lang:{lang} -is:retweet'"
   ]
  },
  {
   "cell_type": "code",
   "execution_count": 6,
   "metadata": {},
   "outputs": [
    {
     "name": "stdout",
     "output_type": "stream",
     "text": [
      "Tweets extraídos não tem componente de localização.\n"
     ]
    }
   ],
   "source": [
    "tweets = client.search_recent_tweets(query=query, \n",
    "                                     tweet_fields=['id', 'text', 'author_id', 'geo', 'lang','created_at'], \n",
    "                                     user_fields=['id', 'name', 'username', 'profile_image_url','created_at'], \n",
    "                                     place_fields=['id', 'country', 'country_code', 'place_type', 'name', 'geo'],\n",
    "                                     expansions=['author_id', 'geo.place_id'],\n",
    "                                     max_results=10)\n",
    "\n",
    "# Get users informations from tweets\n",
    "users = {u[\"id\"]: u for u in tweets.includes['users']}\n",
    "# Get places informations from tweets, if exists\n",
    "try:\n",
    "    places = {p[\"id\"]: p for p in tweets.includes['places']}\n",
    "except KeyError:\n",
    "    print(\"Tweets extraídos não tem componente de localização.\")"
   ]
  },
  {
   "cell_type": "code",
   "execution_count": 8,
   "metadata": {},
   "outputs": [
    {
     "name": "stdout",
     "output_type": "stream",
     "text": [
      "{'keywords_extraction': [], 'id': 1700626720880050342, 'text': 'Mds n posso beber ipa quer eu fico BURRA', 'lang': 'pt', 'created_at': datetime.datetime(2023, 9, 9, 21, 46, 21, tzinfo=datetime.timezone.utc), 'user_id': 189309268, 'user_name': 'Pudin', 'user_screen_name': 'whycophine', 'user_profile_image_url': 'https://pbs.twimg.com/profile_images/1690556497258795008/OREw1yIR_normal.jpg', 'user_created_at': datetime.datetime(2010, 9, 10, 22, 57, 26, tzinfo=datetime.timezone.utc)}\n"
     ]
    }
   ],
   "source": [
    "for tweet in tweets.data:\n",
    "    tweet_data = {}\n",
    "    extracted_keywords = [keyword for keyword in search_keywords if keyword in tweet.text]\n",
    "    tweet_data['keywords_extraction'] = extracted_keywords\n",
    "    tweet_data['id'] = int(tweet.id)\n",
    "    tweet_data['text'] = tweet.text\n",
    "    tweet_data['lang'] = tweet.lang\n",
    "    tweet_data['created_at'] = tweet.created_at\n",
    "    if users[tweet.author_id]:\n",
    "        user = users[tweet.author_id]\n",
    "        tweet_data['user_id'] = int(user.id)\n",
    "        tweet_data['user_name'] = user.name\n",
    "        tweet_data['user_screen_name'] = user.username\n",
    "        tweet_data['user_profile_image_url'] = user.profile_image_url\n",
    "        tweet_data['user_created_at'] = user.created_at\n",
    "    try:\n",
    "        place = places[tweet.geo['place_id']]\n",
    "        tweet_data['place_id'] = int(place.id)\n",
    "        tweet_data['country'] = place.country\n",
    "        tweet_data['country_code'] = place.country_code\n",
    "        tweet_data['place_type'] = place.place_type\n",
    "        tweet_data['place_name'] = place.name\n",
    "        tweet_data['coordinates'] = place.geo['bbox']\n",
    "\n",
    "    except:\n",
    "        pass\n",
    "\n",
    "    print(tweet_data)\n",
    "    break\n",
    "    "
   ]
  }
 ],
 "metadata": {
  "kernelspec": {
   "display_name": "Python 3.10.0 ('env': venv)",
   "language": "python",
   "name": "python3"
  },
  "language_info": {
   "codemirror_mode": {
    "name": "ipython",
    "version": 3
   },
   "file_extension": ".py",
   "mimetype": "text/x-python",
   "name": "python",
   "nbconvert_exporter": "python",
   "pygments_lexer": "ipython3",
   "version": "3.10.0"
  },
  "orig_nbformat": 4,
  "vscode": {
   "interpreter": {
    "hash": "6a07a04c00cde03960d99138a45053afb647678d3162cbd0e11bf4f9d35eb679"
   }
  }
 },
 "nbformat": 4,
 "nbformat_minor": 2
}
