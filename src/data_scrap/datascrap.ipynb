{
 "cells": [
  {
   "attachments": {},
   "cell_type": "markdown",
   "metadata": {},
   "source": [
    "# Import libraries"
   ]
  },
  {
   "cell_type": "code",
   "execution_count": 10,
   "metadata": {},
   "outputs": [],
   "source": [
    "import os\n",
    "import sys\n",
    "import tweepy\n",
    "from dotenv import load_dotenv\n",
    "\n",
    "sys.path.append('../../')\n",
    "import config\n",
    "\n",
    "load_dotenv(os.path.join(r'C:\\Users\\DCandelero\\Documents\\MBA - USP(Data Analytics)\\MBA_TCC', '.env')) "
   ]
  },
  {
   "attachments": {},
   "cell_type": "markdown",
   "metadata": {},
   "source": [
    "# Set twitter access"
   ]
  },
  {
   "cell_type": "code",
   "execution_count": 18,
   "metadata": {},
   "outputs": [],
   "source": [
    "consumer_key = os.environ[\"API_KEY\"]\n",
    "consumer_secret = os.environ[\"API_KEY_SECRET\"]\n",
    "access_token = os.environ[\"ACCESS_TOKEN\"]\n",
    "access_token_secret = os.environ[\"ACCESS_TOKEN_SECRET\"]\n",
    "\n",
    "auth = tweepy.OAuth1UserHandler(\n",
    "  consumer_key, \n",
    "  consumer_secret, \n",
    "  access_token, \n",
    "  access_token_secret\n",
    ")\n",
    "\n",
    "api = tweepy.API(auth)"
   ]
  },
  {
   "cell_type": "code",
   "execution_count": 34,
   "metadata": {},
   "outputs": [
    {
     "name": "stdout",
     "output_type": "stream",
     "text": [
      "@OrfhlaithBegley Only violence against women and girls? If this not an example of sexism? Surely all violence is wrong, including the IRA campaign ?\n",
      "=====\n",
      "If you are so keen to stop violence against women, why are you systematically importing thousands of Muslim savages who see no harm, indeed see it a virtue, in violating women. The HO must be held accountable for every incident of violence against women these monsters will commit https://t.co/YWu3URmCYk\n",
      "=====\n",
      "Speaker McCarthy &amp; House Republicans can spare us the \"we work for all Americans\" bullshit when they literally voted against mental health care for students, expanding veteran's benefits, preventing violence against women &amp; even voted against baby formula to feed babies.\n",
      "=====\n",
      "@simunic_ante @JosayaKj @UtdPlug He means 'such cases'. \n",
      "He also saying he disagrees with violence against women, as in this case but thinks Mason Greenwood deserves a second chance. I will wait for court to give their verdict.\n",
      "=====\n",
      "@MayorofLondon Does violence against women come from men of all cultures equally?\n",
      "=====\n",
      "Factoring out hate crimes and violence against women, that so many people feel more or less sympathy for victims or more or les sympathy for criminal perpetrators based on their race or gender is really a bad reflection on our current societal moment &amp; this really is \"both sides\"\n",
      "=====\n",
      "There is a lot to be said about how violence against women and girls and rape has been a defining feature of the men who Republicans have given power and wish to have in power. It speaks to the overall moral capacity of the entire party, and every Republican voter.\n",
      "=====\n",
      "@jet_set The comments form the male mayor and police chief are infuriating. Male violence against intimate partners is not shocking - it’s something we unfortunately see constantly and 1 or the leading causes or death for women. Nearly 3 women a day are murdered by male partners.\n",
      "=====\n",
      "It’s amazing all these women in politics pretending to be concerned by waffling and prattling about violence against women. They never ask why it’s mostly young (often violent) men seeking asylum, who are coming from countries notorious for violence against women.\n",
      "=====\n",
      "@Derricktgoat Feel horrible for all of the fallen police men and women, but I no longer support them after the Ottawa protest and the blatant police violence against peaceful protesters.\n",
      "=====\n"
     ]
    }
   ],
   "source": [
    "tweets = api.search_tweets(\"violence against women\", tweet_mode=\"extended\", count=10)\n",
    "\n",
    "for tweet in tweets:\n",
    "    try:\n",
    "        print(tweet.retweeted_status.full_text)\n",
    "        print(\"=====\")\n",
    "    except AttributeError:\n",
    "        print(tweet.full_text)\n",
    "        print(\"=====\")"
   ]
  }
 ],
 "metadata": {
  "kernelspec": {
   "display_name": "Python 3.10.0 ('env': venv)",
   "language": "python",
   "name": "python3"
  },
  "language_info": {
   "codemirror_mode": {
    "name": "ipython",
    "version": 3
   },
   "file_extension": ".py",
   "mimetype": "text/x-python",
   "name": "python",
   "nbconvert_exporter": "python",
   "pygments_lexer": "ipython3",
   "version": "3.10.0"
  },
  "orig_nbformat": 4,
  "vscode": {
   "interpreter": {
    "hash": "6a07a04c00cde03960d99138a45053afb647678d3162cbd0e11bf4f9d35eb679"
   }
  }
 },
 "nbformat": 4,
 "nbformat_minor": 2
}
