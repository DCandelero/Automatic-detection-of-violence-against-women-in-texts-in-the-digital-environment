{
 "cells": [
  {
   "attachments": {},
   "cell_type": "markdown",
   "metadata": {},
   "source": [
    "# Import libraries"
   ]
  },
  {
   "cell_type": "code",
   "execution_count": 1,
   "metadata": {},
   "outputs": [
    {
     "data": {
      "text/plain": [
       "True"
      ]
     },
     "execution_count": 1,
     "metadata": {},
     "output_type": "execute_result"
    }
   ],
   "source": [
    "import os\n",
    "import sys\n",
    "import tweepy\n",
    "import requests\n",
    "from dotenv import load_dotenv\n",
    "\n",
    "sys.path.append('../../')\n",
    "import config\n",
    "\n",
    "load_dotenv(os.path.join(config.PROJ_PATH, '.env')) "
   ]
  },
  {
   "attachments": {},
   "cell_type": "markdown",
   "metadata": {},
   "source": [
    "# Set twitter access"
   ]
  },
  {
   "cell_type": "code",
   "execution_count": 2,
   "metadata": {},
   "outputs": [],
   "source": [
    "consumer_key = os.environ[\"API_KEY\"]\n",
    "consumer_secret = os.environ[\"API_KEY_SECRET\"]\n",
    "access_token = os.environ[\"ACCESS_TOKEN\"]\n",
    "access_token_secret = os.environ[\"ACCESS_TOKEN_SECRET\"]\n",
    "\n",
    "auth = tweepy.OAuth1UserHandler(\n",
    "  consumer_key, \n",
    "  consumer_secret, \n",
    "  access_token, \n",
    "  access_token_secret\n",
    ")\n",
    "\n",
    "api = tweepy.API(auth)"
   ]
  },
  {
   "attachments": {},
   "cell_type": "markdown",
   "metadata": {},
   "source": [
    "# Create functions to read and save texts and images"
   ]
  },
  {
   "cell_type": "code",
   "execution_count": 3,
   "metadata": {},
   "outputs": [],
   "source": [
    "def save_tweet_text(tweet:object, text_type='') -> None:\n",
    "    tweet_timestamp = str(tweet.created_at.strftime(\"%Y-%m-%d %H-%M-%S\"))\n",
    "    tweet_id = str(tweet.id)\n",
    "    txt_file_name = os.path.join(config.DATA_PATH_RAW_TEXTS, '{}_{}.txt'.format(tweet_timestamp, tweet_id))\n",
    "    \n",
    "    with open(txt_file_name, 'w', encoding=\"utf-8\") as txt_file:\n",
    "        try:\n",
    "            if text_type == 'retweet':\n",
    "                txt_file.write(tweet.retweeted_status.full_text)\n",
    "            else:\n",
    "                txt_file.write(tweet.full_text)\n",
    "            # txt_file.write(tweet.retweeted_status.full_text)\n",
    "        except AttributeError:\n",
    "            print('Unable to read text from tweet {}'.format(tweet.id))\n",
    "            print(\"=====\")\n",
    "\n",
    "    return None\n",
    "\n",
    "def DownloadFile(url:str, path_to_save:str) -> None:\n",
    "    response = requests.get(url)\n",
    "\n",
    "    if response.status_code == 200:\n",
    "        with open(path_to_save, 'wb') as f:\n",
    "                f.write(response.content)\n",
    "    return None\n",
    "\n",
    "\n",
    "def save_tweet_image(tweet:object) -> None:\n",
    "    tweet_timestamp = str(tweet.created_at.strftime(\"%Y-%m-%d %H-%M-%S\"))\n",
    "    tweet_id = str(tweet.id)\n",
    "\n",
    "    try:\n",
    "        for media in tweet.entities.get(\"media\",[{}]):\n",
    "            #checks if there is any media-entity\n",
    "            if media.get(\"type\",None) == \"photo\":\n",
    "                tweet_media_id = str(media['id'])\n",
    "                filename = os.path.join(config.DATA_PATH_RAW_IMAGES, '{}_{}_{}.png'.format(tweet_timestamp, tweet_id, tweet_media_id))\n",
    "                DownloadFile(media[\"media_url\"], filename)\n",
    "    except AttributeError:\n",
    "        print('Unable to read medias from tweet {}'.format(tweet_id))\n",
    "        print(\"=====\")"
   ]
  },
  {
   "attachments": {},
   "cell_type": "markdown",
   "metadata": {},
   "source": [
    "# Pull tweets"
   ]
  },
  {
   "cell_type": "code",
   "execution_count": 4,
   "metadata": {},
   "outputs": [],
   "source": [
    "phrases_related_to_vaw = ['que ficar em casa', 'mulher obediente', 'é divorciada', 'Ninguém vai acreditar em você', \n",
    "    'Não presta nem pra cozinha', 'Mal sabe lavar uma roupa direito', 'burra', 'interesseira']"
   ]
  },
  {
   "cell_type": "code",
   "execution_count": 5,
   "metadata": {},
   "outputs": [],
   "source": [
    "tweets_pages = []\n",
    "for status in tweepy.Cursor(api.search_tweets,\n",
    "                            'noticia', \n",
    "                            tweet_mode=\"extended\", \n",
    "                            lang='pt', \n",
    "                            count=1).pages(1):\n",
    "    tweets_pages.append(status)\n",
    "\n",
    "# Read tweets\n",
    "for page in tweets_pages:\n",
    "    for tweet in page:\n",
    "        # save_tweet_text(tweet)\n",
    "        # print(tweet.full_text)\n",
    "\n",
    "        # save_tweet_image(tweet)\n",
    "\n",
    "        if tweet.coordinates is not None:\n",
    "            print(tweet.coordinates)\n",
    "            print(tweet.geo)\n",
    "            print(tweet.contributors)\n",
    "            break"
   ]
  },
  {
   "cell_type": "code",
   "execution_count": 8,
   "metadata": {},
   "outputs": [
    {
     "data": {
      "text/plain": [
       "dict_keys(['_api', '_json', 'id', 'id_str', 'name', 'screen_name', 'location', 'description', 'url', 'entities', 'protected', 'followers_count', 'friends_count', 'listed_count', 'created_at', 'favourites_count', 'utc_offset', 'time_zone', 'geo_enabled', 'verified', 'statuses_count', 'lang', 'contributors_enabled', 'is_translator', 'is_translation_enabled', 'profile_background_color', 'profile_background_image_url', 'profile_background_image_url_https', 'profile_background_tile', 'profile_image_url', 'profile_image_url_https', 'profile_banner_url', 'profile_link_color', 'profile_sidebar_border_color', 'profile_sidebar_fill_color', 'profile_text_color', 'profile_use_background_image', 'has_extended_profile', 'default_profile', 'default_profile_image', 'following', 'follow_request_sent', 'notifications', 'translator_type', 'withheld_in_countries'])"
      ]
     },
     "execution_count": 8,
     "metadata": {},
     "output_type": "execute_result"
    }
   ],
   "source": [
    "# Usefull tweet attributes [author(id, name, screen_name, location), user(id, name, screen_name, location), \n",
    "#                           geo, place, coordinates]\n",
    "vars(tweet.author).keys()"
   ]
  },
  {
   "cell_type": "code",
   "execution_count": 17,
   "metadata": {},
   "outputs": [],
   "source": [
    "tweet.author.utc_offset"
   ]
  }
 ],
 "metadata": {
  "kernelspec": {
   "display_name": "Python 3.10.0 ('env': venv)",
   "language": "python",
   "name": "python3"
  },
  "language_info": {
   "codemirror_mode": {
    "name": "ipython",
    "version": 3
   },
   "file_extension": ".py",
   "mimetype": "text/x-python",
   "name": "python",
   "nbconvert_exporter": "python",
   "pygments_lexer": "ipython3",
   "version": "3.10.0"
  },
  "orig_nbformat": 4,
  "vscode": {
   "interpreter": {
    "hash": "6a07a04c00cde03960d99138a45053afb647678d3162cbd0e11bf4f9d35eb679"
   }
  }
 },
 "nbformat": 4,
 "nbformat_minor": 2
}
