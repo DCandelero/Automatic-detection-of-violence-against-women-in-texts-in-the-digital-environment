{
 "cells": [
  {
   "attachments": {},
   "cell_type": "markdown",
   "metadata": {},
   "source": [
    "# Import libraries"
   ]
  },
  {
   "cell_type": "code",
   "execution_count": 8,
   "metadata": {},
   "outputs": [
    {
     "data": {
      "text/plain": [
       "True"
      ]
     },
     "execution_count": 8,
     "metadata": {},
     "output_type": "execute_result"
    }
   ],
   "source": [
    "import os\n",
    "import sys\n",
    "import tweepy\n",
    "import requests\n",
    "from dotenv import load_dotenv\n",
    "\n",
    "sys.path.append('../../')\n",
    "import config\n",
    "\n",
    "load_dotenv(os.path.join(r'C:\\Users\\DCandelero\\Documents\\MBA - USP(Data Analytics)\\MBA_TCC', '.env')) "
   ]
  },
  {
   "attachments": {},
   "cell_type": "markdown",
   "metadata": {},
   "source": [
    "# Set twitter access"
   ]
  },
  {
   "cell_type": "code",
   "execution_count": 9,
   "metadata": {},
   "outputs": [],
   "source": [
    "consumer_key = os.environ[\"API_KEY\"]\n",
    "consumer_secret = os.environ[\"API_KEY_SECRET\"]\n",
    "access_token = os.environ[\"ACCESS_TOKEN\"]\n",
    "access_token_secret = os.environ[\"ACCESS_TOKEN_SECRET\"]\n",
    "\n",
    "auth = tweepy.OAuth1UserHandler(\n",
    "  consumer_key, \n",
    "  consumer_secret, \n",
    "  access_token, \n",
    "  access_token_secret\n",
    ")\n",
    "\n",
    "api = tweepy.API(auth)"
   ]
  },
  {
   "attachments": {},
   "cell_type": "markdown",
   "metadata": {},
   "source": [
    "# Create functions to read and save texts and images"
   ]
  },
  {
   "cell_type": "code",
   "execution_count": 140,
   "metadata": {},
   "outputs": [],
   "source": [
    "def save_tweet_text(tweet:object) -> None:\n",
    "    tweet_timestamp = str(tweet.created_at.strftime(\"%Y-%m-%d %H-%M-%S\"))\n",
    "    tweet_id = str(tweet.id)\n",
    "    txt_file_name = os.path.join(config.DATA_PATH_RAW_TEXTS, '{}_{}.txt'.format(tweet_timestamp, tweet_id))\n",
    "    \n",
    "    with open(txt_file_name, 'w', encoding=\"utf-8\") as txt_file:\n",
    "        try:\n",
    "            txt_file.write(tweet.full_text)\n",
    "            # txt_file.write(tweet.retweeted_status.full_text)\n",
    "            txt_file.write(\"\\n=====\\n\")\n",
    "        except AttributeError:\n",
    "            print('Unable to read text from tweet {}'.format(tweet.id))\n",
    "            print(\"=====\")\n",
    "\n",
    "    return None\n",
    "\n",
    "def DownloadFile(url:str, path_to_save:str) -> None:\n",
    "    response = requests.get(url)\n",
    "\n",
    "    if response.status_code == 200:\n",
    "        with open(path_to_save, 'wb') as f:\n",
    "                f.write(response.content)\n",
    "    return None\n",
    "\n",
    "\n",
    "def save_tweet_image(tweet:object) -> None:\n",
    "    tweet_timestamp = str(tweet.created_at.strftime(\"%Y-%m-%d %H-%M-%S\"))\n",
    "    tweet_id = str(tweet.id)\n",
    "\n",
    "    try:\n",
    "        for media in tweet.entities.get(\"media\",[{}]):\n",
    "            #checks if there is any media-entity\n",
    "            if media.get(\"type\",None) == \"photo\":\n",
    "                tweet_media_id = str(media['id'])\n",
    "                filename = os.path.join(config.DATA_PATH_RAW_IMAGES, '{}_{}_{}.png'.format(tweet_timestamp, tweet_id, tweet_media_id))\n",
    "                DownloadFile(media[\"media_url\"], filename)\n",
    "    except AttributeError:\n",
    "        print('Unable to read medias from tweet {}'.format(tweet_id))\n",
    "        print(\"=====\")"
   ]
  },
  {
   "attachments": {},
   "cell_type": "markdown",
   "metadata": {},
   "source": [
    "# Pull tweets"
   ]
  },
  {
   "cell_type": "code",
   "execution_count": 145,
   "metadata": {},
   "outputs": [],
   "source": [
    "tweets = api.search_tweets(\"violence against women\", tweet_mode=\"extended\", count=100)\n",
    "\n",
    "# Read tweets\n",
    "for tweet in tweets:\n",
    "    save_tweet_text(tweet)\n",
    "\n",
    "    save_tweet_image(tweet)"
   ]
  },
  {
   "cell_type": "code",
   "execution_count": 146,
   "metadata": {},
   "outputs": [
    {
     "data": {
      "text/plain": [
       "dict_keys(['_api', '_json', 'created_at', 'id', 'id_str', 'full_text', 'truncated', 'display_text_range', 'entities', 'metadata', 'source', 'source_url', 'in_reply_to_status_id', 'in_reply_to_status_id_str', 'in_reply_to_user_id', 'in_reply_to_user_id_str', 'in_reply_to_screen_name', 'author', 'user', 'geo', 'coordinates', 'place', 'contributors', 'retweeted_status', 'is_quote_status', 'retweet_count', 'favorite_count', 'favorited', 'retweeted', 'lang'])"
      ]
     },
     "execution_count": 146,
     "metadata": {},
     "output_type": "execute_result"
    }
   ],
   "source": [
    "vars(tweets[0]).keys()"
   ]
  }
 ],
 "metadata": {
  "kernelspec": {
   "display_name": "Python 3.10.0 ('env': venv)",
   "language": "python",
   "name": "python3"
  },
  "language_info": {
   "codemirror_mode": {
    "name": "ipython",
    "version": 3
   },
   "file_extension": ".py",
   "mimetype": "text/x-python",
   "name": "python",
   "nbconvert_exporter": "python",
   "pygments_lexer": "ipython3",
   "version": "3.10.0"
  },
  "orig_nbformat": 4,
  "vscode": {
   "interpreter": {
    "hash": "6a07a04c00cde03960d99138a45053afb647678d3162cbd0e11bf4f9d35eb679"
   }
  }
 },
 "nbformat": 4,
 "nbformat_minor": 2
}
