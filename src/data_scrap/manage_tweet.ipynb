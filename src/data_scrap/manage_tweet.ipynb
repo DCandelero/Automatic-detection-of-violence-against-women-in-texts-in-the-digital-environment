{
 "cells": [
  {
   "cell_type": "code",
   "execution_count": 1,
   "metadata": {},
   "outputs": [
    {
     "data": {
      "text/plain": [
       "True"
      ]
     },
     "execution_count": 1,
     "metadata": {},
     "output_type": "execute_result"
    }
   ],
   "source": [
    "import os\n",
    "import sys\n",
    "import pickle\n",
    "from dotenv import load_dotenv\n",
    "import pandas as pd\n",
    "import warnings\n",
    "warnings.simplefilter(action='ignore', category=FutureWarning)\n",
    "\n",
    "sys.path.append('../../')\n",
    "import config\n",
    "\n",
    "load_dotenv(os.path.join(config.PROJ_PATH, '.env')) "
   ]
  },
  {
   "cell_type": "markdown",
   "metadata": {},
   "source": [
    "# Read parquet file extracted tweets"
   ]
  },
  {
   "cell_type": "code",
   "execution_count": 2,
   "metadata": {},
   "outputs": [
    {
     "data": {
      "text/html": [
       "<div>\n",
       "<style scoped>\n",
       "    .dataframe tbody tr th:only-of-type {\n",
       "        vertical-align: middle;\n",
       "    }\n",
       "\n",
       "    .dataframe tbody tr th {\n",
       "        vertical-align: top;\n",
       "    }\n",
       "\n",
       "    .dataframe thead th {\n",
       "        text-align: right;\n",
       "    }\n",
       "</style>\n",
       "<table border=\"1\" class=\"dataframe\">\n",
       "  <thead>\n",
       "    <tr style=\"text-align: right;\">\n",
       "      <th></th>\n",
       "      <th>id</th>\n",
       "      <th>text</th>\n",
       "      <th>lang</th>\n",
       "      <th>keywords_extraction</th>\n",
       "      <th>created_at</th>\n",
       "      <th>user_id</th>\n",
       "      <th>user_name</th>\n",
       "      <th>user_screen_name</th>\n",
       "      <th>user_profile_image_url</th>\n",
       "      <th>user_created_at</th>\n",
       "      <th>place_id</th>\n",
       "      <th>place_type</th>\n",
       "      <th>place_name</th>\n",
       "      <th>country</th>\n",
       "      <th>country_code</th>\n",
       "      <th>coordinates</th>\n",
       "    </tr>\n",
       "  </thead>\n",
       "  <tbody>\n",
       "  </tbody>\n",
       "</table>\n",
       "</div>"
      ],
      "text/plain": [
       "Empty DataFrame\n",
       "Columns: [id, text, lang, keywords_extraction, created_at, user_id, user_name, user_screen_name, user_profile_image_url, user_created_at, place_id, place_type, place_name, country, country_code, coordinates]\n",
       "Index: []"
      ]
     },
     "execution_count": 2,
     "metadata": {},
     "output_type": "execute_result"
    }
   ],
   "source": [
    "file_path = os.path.join(config.DATA_PATH_WRANGLE_TWEETS, 'last_extraction_tweets.parquet')\n",
    "temp_extracted_tweets = pd.read_parquet(file_path)\n",
    "\n",
    "temp_extracted_tweets"
   ]
  },
  {
   "cell_type": "markdown",
   "metadata": {},
   "source": [
    "# Read extracted tweet api_v1"
   ]
  },
  {
   "cell_type": "code",
   "execution_count": 3,
   "metadata": {},
   "outputs": [
    {
     "ename": "FileNotFoundError",
     "evalue": "[Errno 2] No such file or directory: 'C:\\\\Users\\\\DCandelero\\\\Documents\\\\MBA - USP(Data Analytics)\\\\MBA_TCC\\\\data\\\\raw\\\\tweets_v1\\\\1672707501186510848.pkl'",
     "output_type": "error",
     "traceback": [
      "\u001b[1;31m---------------------------------------------------------------------------\u001b[0m",
      "\u001b[1;31mFileNotFoundError\u001b[0m                         Traceback (most recent call last)",
      "Cell \u001b[1;32mIn[3], line 3\u001b[0m\n\u001b[0;32m      1\u001b[0m file_path \u001b[39m=\u001b[39m os\u001b[39m.\u001b[39mpath\u001b[39m.\u001b[39mjoin(config\u001b[39m.\u001b[39mDATA_PATH_RAW_TWEETS_V1, \u001b[39m'\u001b[39m\u001b[39m1672707501186510848.pkl\u001b[39m\u001b[39m'\u001b[39m)\n\u001b[1;32m----> 3\u001b[0m file \u001b[39m=\u001b[39m \u001b[39mopen\u001b[39;49m(file_path,\u001b[39m'\u001b[39;49m\u001b[39mrb\u001b[39;49m\u001b[39m'\u001b[39;49m)\n\u001b[0;32m      4\u001b[0m tweet_info \u001b[39m=\u001b[39m pickle\u001b[39m.\u001b[39mload(file)\n\u001b[0;32m      6\u001b[0m \u001b[39m# Tweet attributes\u001b[39;00m\n",
      "File \u001b[1;32mc:\\Users\\DCandelero\\Documents\\MBA - USP(Data Analytics)\\MBA_TCC\\env\\lib\\site-packages\\IPython\\core\\interactiveshell.py:282\u001b[0m, in \u001b[0;36m_modified_open\u001b[1;34m(file, *args, **kwargs)\u001b[0m\n\u001b[0;32m    275\u001b[0m \u001b[39mif\u001b[39;00m file \u001b[39min\u001b[39;00m {\u001b[39m0\u001b[39m, \u001b[39m1\u001b[39m, \u001b[39m2\u001b[39m}:\n\u001b[0;32m    276\u001b[0m     \u001b[39mraise\u001b[39;00m \u001b[39mValueError\u001b[39;00m(\n\u001b[0;32m    277\u001b[0m         \u001b[39mf\u001b[39m\u001b[39m\"\u001b[39m\u001b[39mIPython won\u001b[39m\u001b[39m'\u001b[39m\u001b[39mt let you open fd=\u001b[39m\u001b[39m{\u001b[39;00mfile\u001b[39m}\u001b[39;00m\u001b[39m by default \u001b[39m\u001b[39m\"\u001b[39m\n\u001b[0;32m    278\u001b[0m         \u001b[39m\"\u001b[39m\u001b[39mas it is likely to crash IPython. If you know what you are doing, \u001b[39m\u001b[39m\"\u001b[39m\n\u001b[0;32m    279\u001b[0m         \u001b[39m\"\u001b[39m\u001b[39myou can use builtins\u001b[39m\u001b[39m'\u001b[39m\u001b[39m open.\u001b[39m\u001b[39m\"\u001b[39m\n\u001b[0;32m    280\u001b[0m     )\n\u001b[1;32m--> 282\u001b[0m \u001b[39mreturn\u001b[39;00m io_open(file, \u001b[39m*\u001b[39margs, \u001b[39m*\u001b[39m\u001b[39m*\u001b[39mkwargs)\n",
      "\u001b[1;31mFileNotFoundError\u001b[0m: [Errno 2] No such file or directory: 'C:\\\\Users\\\\DCandelero\\\\Documents\\\\MBA - USP(Data Analytics)\\\\MBA_TCC\\\\data\\\\raw\\\\tweets_v1\\\\1672707501186510848.pkl'"
     ]
    }
   ],
   "source": [
    "file_path = os.path.join(config.DATA_PATH_RAW_TWEETS_V1, '1672707501186510848.pkl')\n",
    "\n",
    "file = open(file_path,'rb')\n",
    "tweet_info = pickle.load(file)\n",
    "\n",
    "# Tweet attributes\n",
    "dir(tweet_info)"
   ]
  },
  {
   "cell_type": "markdown",
   "metadata": {},
   "source": [
    "# Read extracted tweet api_v2"
   ]
  },
  {
   "cell_type": "code",
   "execution_count": null,
   "metadata": {},
   "outputs": [
    {
     "name": "stdout",
     "output_type": "stream",
     "text": [
      "keywords_extraction\n",
      "id\n",
      "text\n",
      "lang\n",
      "created_at\n",
      "user_id\n",
      "user_name\n",
      "user_screen_name\n",
      "user_profile_image_url\n",
      "user_created_at\n"
     ]
    }
   ],
   "source": [
    "file_path = os.path.join(config.DATA_PATH_RAW_TWEETS_V2, '1700626486833627418.pkl')\n",
    "\n",
    "file = open(file_path,'rb')\n",
    "tweet_info = pickle.load(file)\n",
    "\n",
    "# Tweet attributes\n",
    "for key in tweet_info.keys():\n",
    "    print(key)"
   ]
  },
  {
   "cell_type": "markdown",
   "metadata": {},
   "source": [
    "# Read train/test dataset"
   ]
  },
  {
   "cell_type": "code",
   "execution_count": 4,
   "metadata": {},
   "outputs": [
    {
     "name": "stdout",
     "output_type": "stream",
     "text": [
      "wssa mulher e uma vagabunda === 1\n",
      "AMO TANTO\n",
      "\n",
      "Aff, fico emocianada vendo essa mulher. Ja sei que vou chorar igual uma vagabunda no show https://t.co/6f1exlm1mq === 0\n",
      "é o fim da vagabunda mesmo, mulher tiriça vim balangar pro meu lado kkkkkkkkkk chicoteia as feias === 1\n",
      "A Melanie é uma vagabunda rapariga e não merece nada mesmo pra aprender a virar gente mulher micosa véi === 1\n",
      "a mulher que tava na minha frente da fila do ônibus esperou eu passar o meu bilhete único pra passar a catraca \n",
      "que vagabunda vei === 1\n",
      "gritante o abismo entre a sabrina e a olivia \n",
      "sendo a olivia uma menina velha e a sabrina com uma postura de mulher madura === 0\n",
      "Umas mulher velha q são pior q a turminha de adolescentes da minha irmã === 1\n",
      "nossa mulher vinho quanto mais velha mais gostosa https://t.co/Zpekvn1t8B === 1\n",
      "@o_antagonista Essa velha ministra não deve saber o que depende de sua decisão afinal nunca poderá saber o que é isso para uma mulher === 0\n",
      "a mulher já chega se escorando na parede o velha sedentária https://t.co/tNtoXjyoPG === 0\n",
      "Número de amostras de treino: 467\n",
      "\n",
      "Parça essa vaca fica mostrando essas merda, pelo.amor. === 1\n",
      "No fundo essa vadia merece tudo que tá acontecendo === 1\n",
      "puta vagabunda para de responder as coisas que minha mulher posta vadia === 1\n",
      "@rafadelray mulher vadia rafa === 1\n",
      "@Antonianat69564 Sua vagabunda, vadia, mulher vulgar eu tenho nojo de você, você é um lixo deveria sumir da fase da terra, para de dar em cima do meu pai sua velhota de merda eu quero vc pra bem longe daqui sua cafajeste de primeira 😡🤬 === 1\n",
      "Parabens vagabunda vc me fez ficar com essa musica impregnada na cabeça o dia inteiro \n",
      " https://t.co/CvyTDfDalC === 1\n",
      "@ja1zinho_ cala a boca vagabunda === 1\n",
      "a Miley é uma vagabunda do caralho que ódio === 1\n",
      "Bem que dizem que mulher feia rouba kkkkkkkk e o fimmm da vagabunda 😭😭 === 1\n",
      "acha que é bonito ser feia, uma mulher velha dessa agindo igual uma criança === 1\n",
      "Número de amostras de teste: 186\n",
      "\n"
     ]
    }
   ],
   "source": [
    "# Read parquet file extracted tweets\n",
    "file_path = os.path.join(config.DATASET_TWEETS, 'train.parquet')\n",
    "df_train = pd.read_parquet(file_path)\n",
    "\n",
    "for ind in df_train.tail(10).index:\n",
    "    print(f'{df_train[\"text\"][ind]} === {df_train[\"label\"][ind]}')\n",
    "print(\"Número de amostras de treino: {}\\n\".format(df_train.shape[0]))\n",
    "\n",
    "# Read parquet file extracted tweets\n",
    "file_path = os.path.join(config.DATASET_TWEETS, 'test.parquet')\n",
    "df_test = pd.read_parquet(file_path)\n",
    "\n",
    "for ind in df_test.tail(10).index:\n",
    "    print(f'{df_test[\"text\"][ind]} === {df_test[\"label\"][ind]}')\n",
    "print(\"Número de amostras de teste: {}\\n\".format(df_test.shape[0]))"
   ]
  },
  {
   "cell_type": "code",
   "execution_count": null,
   "metadata": {},
   "outputs": [],
   "source": [
    "# Tweets a serem corrigidos\n",
    "tweets = [\"1701607301696938247\", \"1701592898272186467\", \"1701587967687663803\"]"
   ]
  },
  {
   "cell_type": "code",
   "execution_count": 16,
   "metadata": {},
   "outputs": [
    {
     "data": {
      "text/plain": [
       "[('burra', 84),\n",
       " ('puta', 67),\n",
       " ('amante', 38),\n",
       " ('cadela', 38),\n",
       " ('idiota', 38),\n",
       " ('vagabunda', 38),\n",
       " ('chora', 37),\n",
       " ('doida', 36),\n",
       " ('gorda', 32),\n",
       " ('merda', 31),\n",
       " ('estupida', 30),\n",
       " ('atirada', 29),\n",
       " ('hipocrita', 29),\n",
       " ('covarde', 28),\n",
       " ('rodada', 27),\n",
       " ('piranha', 26),\n",
       " ('baranga', 25),\n",
       " ('falsa', 24),\n",
       " ('nojenta', 24),\n",
       " ('esquisita', 22),\n",
       " ('vadia', 22),\n",
       " ('jumenta', 21),\n",
       " ('lerda', 21),\n",
       " ('vaca', 21),\n",
       " ('desastrada', 20),\n",
       " ('mentirosa', 20),\n",
       " ('promiscua', 20),\n",
       " ('histerica', 19),\n",
       " ('mal comida', 19),\n",
       " ('manipuladora', 19),\n",
       " ('piriguete', 19),\n",
       " ('vergonha', 19),\n",
       " ('feminazi', 18),\n",
       " ('mocreia', 18),\n",
       " ('ridicula', 18),\n",
       " ('interesseira', 17),\n",
       " ('arregona', 16),\n",
       " ('porca', 16),\n",
       " ('fraca', 15),\n",
       " ('velha', 15),\n",
       " ('desorganizada', 14),\n",
       " ('egoista', 12),\n",
       " ('bruxa', 11),\n",
       " ('farsante', 11),\n",
       " ('mulher de malandro', 11),\n",
       " ('peppa pig', 11),\n",
       " ('passada', 10),\n",
       " ('incapaz', 9),\n",
       " ('lacraia', 9),\n",
       " ('louca', 4),\n",
       " ('oferecida', 2),\n",
       " ('chifruda', 1),\n",
       " ('preguiçosa', 0)]"
      ]
     },
     "execution_count": 16,
     "metadata": {},
     "output_type": "execute_result"
    }
   ],
   "source": [
    "import unidecode\n",
    "\n",
    "all_search_words = config.OFENSIVE_WORDS\n",
    "count_offensive_words = {}\n",
    "for word in all_search_words:\n",
    "    count_offensive_words[word.lower()] = 0\n",
    "\n",
    "\n",
    "for tweet_fname in os.listdir(config.DATA_PATH_RAW_TWEETS_V2):\n",
    "    file_path = os.path.join(config.DATA_PATH_RAW_TWEETS_V2, tweet_fname)\n",
    "    file = open(file_path,'rb')\n",
    "    tweet_info = pickle.load(file)\n",
    "\n",
    "    text = unidecode.unidecode(tweet_info['text'].lower())\n",
    "    for word in all_search_words:\n",
    "        if word.lower() in text:\n",
    "            count_offensive_words[word.lower()] += 1\n",
    "\n",
    "sorted_count_offensive_words = sorted(count_offensive_words.items(), key=lambda x:x[1], reverse=True)\n",
    "sorted_count_offensive_words"
   ]
  }
 ],
 "metadata": {
  "kernelspec": {
   "display_name": "env",
   "language": "python",
   "name": "python3"
  },
  "language_info": {
   "codemirror_mode": {
    "name": "ipython",
    "version": 3
   },
   "file_extension": ".py",
   "mimetype": "text/x-python",
   "name": "python",
   "nbconvert_exporter": "python",
   "pygments_lexer": "ipython3",
   "version": "3.10.0"
  },
  "orig_nbformat": 4
 },
 "nbformat": 4,
 "nbformat_minor": 2
}
