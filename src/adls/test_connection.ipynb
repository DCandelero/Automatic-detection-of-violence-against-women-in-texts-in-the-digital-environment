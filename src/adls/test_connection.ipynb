{
 "cells": [
  {
   "cell_type": "code",
   "execution_count": 1,
   "metadata": {},
   "outputs": [
    {
     "data": {
      "text/plain": [
       "True"
      ]
     },
     "execution_count": 1,
     "metadata": {},
     "output_type": "execute_result"
    }
   ],
   "source": [
    "import os\n",
    "import sys\n",
    "from dotenv import load_dotenv\n",
    "import connection \n",
    "\n",
    "sys.path.append('../../')\n",
    "import config\n",
    "\n",
    "load_dotenv(os.path.join(config.PROJ_PATH, '.env')) "
   ]
  },
  {
   "cell_type": "code",
   "execution_count": 2,
   "metadata": {},
   "outputs": [],
   "source": [
    "storage_account_name = os.environ[\"STORAGE_ACCOUN_NAME\"]\n",
    "storage_account_key = os.environ[\"STORAGE_ACCOUN_KEY\"]\n",
    "\n",
    "connection.initialize_storage_account(storage_account_name, storage_account_key)\n"
   ]
  },
  {
   "cell_type": "code",
   "execution_count": 13,
   "metadata": {},
   "outputs": [],
   "source": [
    "def create_project_structure():\n",
    "    connection.create_file_system('extract')\n",
    "    connection.create_directory('extract', 'texts')\n",
    "    connection.create_directory('extract', 'images')\n",
    "\n",
    "    connection.create_file_system('text-incremental-dvaw-dataset')\n",
    "    connection.create_directory('text-incremental-dvaw-dataset', 'train')\n",
    "    connection.create_directory('text-incremental-dvaw-dataset', 'test')\n",
    "\n",
    "    connection.create_file_system('image-incremental-dvaw-dataset')\n",
    "    connection.create_directory('image-incremental-dvaw-dataset', 'train')\n",
    "    connection.create_directory('image-incremental-dvaw-dataset', 'test')\n",
    "\n",
    "    connection.create_file_system('text-default-dvaw-dataset')\n",
    "    connection.create_directory('text-default-dvaw-dataset', 'train')\n",
    "    connection.create_directory('text-default-dvaw-dataset', 'test')\n",
    "\n",
    "    connection.create_file_system('image-default-dvaw-dataset')\n",
    "    connection.create_directory('image-default-dvaw-dataset', 'train')\n",
    "    connection.create_directory('image-default-dvaw-dataset', 'test')\n",
    "\n",
    "# create_project_structure() "
   ]
  },
  {
   "cell_type": "code",
   "execution_count": 3,
   "metadata": {},
   "outputs": [],
   "source": [
    "text_file_name = '2023-01-13 23-57-57_1614049142916931585.txt'\n",
    "text_path = os.path.join(config.DATA_PATH_RAW_TEXTS, text_file_name)\n",
    "connection.upload_file_to_directory('text-default-dvaw-dataset', 'train', text_path, text_file_name)"
   ]
  },
  {
   "cell_type": "code",
   "execution_count": 4,
   "metadata": {},
   "outputs": [
    {
     "name": "stdout",
     "output_type": "stream",
     "text": [
      "'utf-8' codec can't decode byte 0xff in position 0: invalid start byte\n"
     ]
    }
   ],
   "source": [
    "image_file_name = '2023-01-13 23-58-08_1614049188592996352_1613930691258978309.png'\n",
    "image_path = os.path.join(config.DATA_PATH_RAW_IMAGES, image_file_name)\n",
    "connection.upload_file_to_directory('image-default-dvaw-dataset', 'train', image_path, image_file_name)"
   ]
  }
 ],
 "metadata": {
  "kernelspec": {
   "display_name": "Python 3.10.0 ('env': venv)",
   "language": "python",
   "name": "python3"
  },
  "language_info": {
   "codemirror_mode": {
    "name": "ipython",
    "version": 3
   },
   "file_extension": ".py",
   "mimetype": "text/x-python",
   "name": "python",
   "nbconvert_exporter": "python",
   "pygments_lexer": "ipython3",
   "version": "3.10.0 (tags/v3.10.0:b494f59, Oct  4 2021, 19:00:18) [MSC v.1929 64 bit (AMD64)]"
  },
  "orig_nbformat": 4,
  "vscode": {
   "interpreter": {
    "hash": "6a07a04c00cde03960d99138a45053afb647678d3162cbd0e11bf4f9d35eb679"
   }
  }
 },
 "nbformat": 4,
 "nbformat_minor": 2
}
